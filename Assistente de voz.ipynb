{
 "cells": [
  {
   "cell_type": "code",
   "execution_count": 31,
   "id": "d06252ec-f40c-4a70-8263-9483f2502ae1",
   "metadata": {},
   "outputs": [
    {
     "name": "stdout",
     "output_type": "stream",
     "text": [
      "Requirement already satisfied: gTTS in c:\\users\\eduardo\\anaconda3\\envs\\ambiente-1\\lib\\site-packages (2.5.4)\n",
      "Requirement already satisfied: requests<3,>=2.27 in c:\\users\\eduardo\\anaconda3\\envs\\ambiente-1\\lib\\site-packages (from gTTS) (2.32.3)\n",
      "Requirement already satisfied: click<8.2,>=7.1 in c:\\users\\eduardo\\anaconda3\\envs\\ambiente-1\\lib\\site-packages (from gTTS) (8.1.7)\n",
      "Requirement already satisfied: colorama in c:\\users\\eduardo\\anaconda3\\envs\\ambiente-1\\lib\\site-packages (from click<8.2,>=7.1->gTTS) (0.4.6)\n",
      "Requirement already satisfied: charset-normalizer<4,>=2 in c:\\users\\eduardo\\anaconda3\\envs\\ambiente-1\\lib\\site-packages (from requests<3,>=2.27->gTTS) (3.3.2)\n",
      "Requirement already satisfied: idna<4,>=2.5 in c:\\users\\eduardo\\anaconda3\\envs\\ambiente-1\\lib\\site-packages (from requests<3,>=2.27->gTTS) (3.7)\n",
      "Requirement already satisfied: urllib3<3,>=1.21.1 in c:\\users\\eduardo\\anaconda3\\envs\\ambiente-1\\lib\\site-packages (from requests<3,>=2.27->gTTS) (2.2.3)\n",
      "Requirement already satisfied: certifi>=2017.4.17 in c:\\users\\eduardo\\anaconda3\\envs\\ambiente-1\\lib\\site-packages (from requests<3,>=2.27->gTTS) (2024.12.14)\n",
      "Requirement already satisfied: SpeechRecognition in c:\\users\\eduardo\\anaconda3\\envs\\ambiente-1\\lib\\site-packages (3.13.0)\n",
      "Requirement already satisfied: typing-extensions in c:\\users\\eduardo\\anaconda3\\envs\\ambiente-1\\lib\\site-packages (from SpeechRecognition) (4.11.0)\n",
      "Requirement already satisfied: playsound in c:\\users\\eduardo\\anaconda3\\envs\\ambiente-1\\lib\\site-packages (1.3.0)\n",
      "Requirement already satisfied: PyAudio in c:\\users\\eduardo\\anaconda3\\envs\\ambiente-1\\lib\\site-packages (0.2.14)\n",
      "Requirement already satisfied: IPython in c:\\users\\eduardo\\anaconda3\\envs\\ambiente-1\\lib\\site-packages (8.27.0)\n",
      "Requirement already satisfied: decorator in c:\\users\\eduardo\\anaconda3\\envs\\ambiente-1\\lib\\site-packages (from IPython) (5.1.1)\n",
      "Requirement already satisfied: jedi>=0.16 in c:\\users\\eduardo\\anaconda3\\envs\\ambiente-1\\lib\\site-packages (from IPython) (0.19.2)\n",
      "Requirement already satisfied: matplotlib-inline in c:\\users\\eduardo\\anaconda3\\envs\\ambiente-1\\lib\\site-packages (from IPython) (0.1.6)\n",
      "Requirement already satisfied: prompt-toolkit<3.1.0,>=3.0.41 in c:\\users\\eduardo\\anaconda3\\envs\\ambiente-1\\lib\\site-packages (from IPython) (3.0.43)\n",
      "Requirement already satisfied: pygments>=2.4.0 in c:\\users\\eduardo\\anaconda3\\envs\\ambiente-1\\lib\\site-packages (from IPython) (2.15.1)\n",
      "Requirement already satisfied: stack-data in c:\\users\\eduardo\\anaconda3\\envs\\ambiente-1\\lib\\site-packages (from IPython) (0.2.0)\n",
      "Requirement already satisfied: traitlets>=5.13.0 in c:\\users\\eduardo\\anaconda3\\envs\\ambiente-1\\lib\\site-packages (from IPython) (5.14.3)\n",
      "Requirement already satisfied: exceptiongroup in c:\\users\\eduardo\\anaconda3\\envs\\ambiente-1\\lib\\site-packages (from IPython) (1.2.0)\n",
      "Requirement already satisfied: typing-extensions>=4.6 in c:\\users\\eduardo\\anaconda3\\envs\\ambiente-1\\lib\\site-packages (from IPython) (4.11.0)\n",
      "Requirement already satisfied: colorama in c:\\users\\eduardo\\anaconda3\\envs\\ambiente-1\\lib\\site-packages (from IPython) (0.4.6)\n",
      "Requirement already satisfied: parso<0.9.0,>=0.8.4 in c:\\users\\eduardo\\anaconda3\\envs\\ambiente-1\\lib\\site-packages (from jedi>=0.16->IPython) (0.8.4)\n",
      "Requirement already satisfied: wcwidth in c:\\users\\eduardo\\anaconda3\\envs\\ambiente-1\\lib\\site-packages (from prompt-toolkit<3.1.0,>=3.0.41->IPython) (0.2.5)\n",
      "Requirement already satisfied: executing in c:\\users\\eduardo\\anaconda3\\envs\\ambiente-1\\lib\\site-packages (from stack-data->IPython) (0.8.3)\n",
      "Requirement already satisfied: asttokens in c:\\users\\eduardo\\anaconda3\\envs\\ambiente-1\\lib\\site-packages (from stack-data->IPython) (2.0.5)\n",
      "Requirement already satisfied: pure-eval in c:\\users\\eduardo\\anaconda3\\envs\\ambiente-1\\lib\\site-packages (from stack-data->IPython) (0.2.2)\n",
      "Requirement already satisfied: six in c:\\users\\eduardo\\anaconda3\\envs\\ambiente-1\\lib\\site-packages (from asttokens->stack-data->IPython) (1.16.0)\n"
     ]
    }
   ],
   "source": [
    "!pip install gTTS\n",
    "!pip install SpeechRecognition\n",
    "!pip install playsound\n",
    "!pip install PyAudio\n",
    "!pip install IPython"
   ]
  },
  {
   "cell_type": "code",
   "execution_count": 32,
   "id": "3e9bb653-ccb8-40b2-b7f0-113faa4e7691",
   "metadata": {},
   "outputs": [],
   "source": [
    "from gtts import gTTS\n",
    "from IPython.display import Audio\n",
    "from IPython.display import display\n",
    "from IPython.display import Javascript\n",
    "\n",
    "import speech_recognition as sr\n",
    "import os\n",
    "import datetime\n",
    "import playsound\n",
    "import base64 \n",
    "import subprocess"
   ]
  },
  {
   "cell_type": "code",
   "execution_count": 33,
   "id": "323aa881-2385-45f3-8ce4-fa3887bdee41",
   "metadata": {},
   "outputs": [],
   "source": [
    "def falar(texto):\n",
    "  gtts_object = gTTS(text = texto, lang = \"pt\", slow = False)\n",
    "  gtts_object.save(\"oi.wav\")\n",
    "  display(Audio(filename=\"oi.wav\", autoplay=True))"
   ]
  },
  {
   "cell_type": "code",
   "execution_count": 34,
   "id": "5d57e66c-1688-48d2-a909-35c414ccf97c",
   "metadata": {},
   "outputs": [
    {
     "data": {
      "text/html": [
       "\n",
       "                <audio  controls=\"controls\" autoplay=\"autoplay\">\n",
       "                    <source src=\"data:audio/wav;base64,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\" type=\"audio/wav\" />\n",
       "                    Your browser does not support the audio element.\n",
       "                </audio>\n",
       "              "
      ],
      "text/plain": [
       "<IPython.lib.display.Audio object>"
      ]
     },
     "metadata": {},
     "output_type": "display_data"
    }
   ],
   "source": [
    "falar(texto = 'Oi Izabel')"
   ]
  },
  {
   "cell_type": "code",
   "execution_count": 35,
   "id": "f6ef776d-c49d-401d-bcda-b45d6f696257",
   "metadata": {},
   "outputs": [],
   "source": [
    "def get_audio():\n",
    "  r = sr.Recognizer()\n",
    "  with sr.Microphone() as source:\n",
    "    r.pause_threshold = 1\n",
    "    r.adjust_for_ambient_noise(source, duration = 1)\n",
    "    print(\"Diga algo: \")\n",
    "    audio = r.listen(source)\n",
    "    said = \"\"\n",
    "    try:\n",
    "      said = r.recognize_google(audio, language = \"pt-BR\")\n",
    "      print(said)\n",
    "    except Exception as e:\n",
    "      falar(\"Desculpe, não entendi.\")\n",
    "  return said"
   ]
  },
  {
   "cell_type": "code",
   "execution_count": null,
   "id": "54422220-5c7a-4a90-8002-c68acc8d060a",
   "metadata": {},
   "outputs": [
    {
     "name": "stdout",
     "output_type": "stream",
     "text": [
      "Diga algo: \n"
     ]
    }
   ],
   "source": [
    "list_commands = ['abrir']\n",
    "list_programs = ['excel', 'calculadora']\n",
    "\n",
    "command = get_audio()\n",
    "\n",
    "tokens = command.split()\n",
    "print(tokens)\n",
    "\n",
    "if tokens[0].lower() in list_commands and tokens[1].lower() in list_programs:\n",
    "    print('comando entendido')\n",
    "    if tokens[1].lower() == list_programs[0]:\n",
    "        print('abrindo excel')\n",
    "        subprocess.Popen('excel.exe', shell=True)\n",
    "    if tokens[1].lower() == list_programs[1]:\n",
    "        print('abrindo calculadora')\n",
    "        subprocess.Popen('calc.exe', shell=True)\n",
    "#subprocess.Popen('notepad.exe', shell=True)"
   ]
  },
  {
   "cell_type": "code",
   "execution_count": null,
   "id": "c0370f07-d79f-4864-8c66-6fca2ea42d67",
   "metadata": {},
   "outputs": [],
   "source": []
  }
 ],
 "metadata": {
  "kernelspec": {
   "display_name": "Python 3 (ipykernel)",
   "language": "python",
   "name": "python3"
  },
  "language_info": {
   "codemirror_mode": {
    "name": "ipython",
    "version": 3
   },
   "file_extension": ".py",
   "mimetype": "text/x-python",
   "name": "python",
   "nbconvert_exporter": "python",
   "pygments_lexer": "ipython3",
   "version": "3.10.13"
  }
 },
 "nbformat": 4,
 "nbformat_minor": 5
}
