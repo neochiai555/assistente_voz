{
 "cells": [
  {
   "cell_type": "code",
   "execution_count": 12,
   "id": "d06252ec-f40c-4a70-8263-9483f2502ae1",
   "metadata": {},
   "outputs": [
    {
     "name": "stdout",
     "output_type": "stream",
     "text": [
      "Requirement already satisfied: gTTS in c:\\users\\neoch\\anaconda3\\envs\\cursodio\\lib\\site-packages (2.5.4)\n",
      "Requirement already satisfied: requests<3,>=2.27 in c:\\users\\neoch\\anaconda3\\envs\\cursodio\\lib\\site-packages (from gTTS) (2.32.3)\n",
      "Requirement already satisfied: click<8.2,>=7.1 in c:\\users\\neoch\\anaconda3\\envs\\cursodio\\lib\\site-packages (from gTTS) (8.1.8)\n",
      "Requirement already satisfied: colorama in c:\\users\\neoch\\anaconda3\\envs\\cursodio\\lib\\site-packages (from click<8.2,>=7.1->gTTS) (0.4.6)\n",
      "Requirement already satisfied: charset-normalizer<4,>=2 in c:\\users\\neoch\\anaconda3\\envs\\cursodio\\lib\\site-packages (from requests<3,>=2.27->gTTS) (3.3.2)\n",
      "Requirement already satisfied: idna<4,>=2.5 in c:\\users\\neoch\\anaconda3\\envs\\cursodio\\lib\\site-packages (from requests<3,>=2.27->gTTS) (3.7)\n",
      "Requirement already satisfied: urllib3<3,>=1.21.1 in c:\\users\\neoch\\anaconda3\\envs\\cursodio\\lib\\site-packages (from requests<3,>=2.27->gTTS) (2.2.3)\n",
      "Requirement already satisfied: certifi>=2017.4.17 in c:\\users\\neoch\\anaconda3\\envs\\cursodio\\lib\\site-packages (from requests<3,>=2.27->gTTS) (2024.8.30)\n",
      "Requirement already satisfied: SpeechRecognition in c:\\users\\neoch\\anaconda3\\envs\\cursodio\\lib\\site-packages (3.13.0)\n",
      "Requirement already satisfied: typing-extensions in c:\\users\\neoch\\anaconda3\\envs\\cursodio\\lib\\site-packages (from SpeechRecognition) (4.11.0)\n",
      "Requirement already satisfied: playsound in c:\\users\\neoch\\anaconda3\\envs\\cursodio\\lib\\site-packages (1.3.0)\n",
      "Requirement already satisfied: PyAudio in c:\\users\\neoch\\anaconda3\\envs\\cursodio\\lib\\site-packages (0.2.14)\n",
      "Requirement already satisfied: IPython in c:\\users\\neoch\\anaconda3\\envs\\cursodio\\lib\\site-packages (8.27.0)\n",
      "Requirement already satisfied: decorator in c:\\users\\neoch\\anaconda3\\envs\\cursodio\\lib\\site-packages (from IPython) (5.1.1)\n",
      "Requirement already satisfied: jedi>=0.16 in c:\\users\\neoch\\anaconda3\\envs\\cursodio\\lib\\site-packages (from IPython) (0.19.1)\n",
      "Requirement already satisfied: matplotlib-inline in c:\\users\\neoch\\anaconda3\\envs\\cursodio\\lib\\site-packages (from IPython) (0.1.6)\n",
      "Requirement already satisfied: prompt-toolkit<3.1.0,>=3.0.41 in c:\\users\\neoch\\anaconda3\\envs\\cursodio\\lib\\site-packages (from IPython) (3.0.43)\n",
      "Requirement already satisfied: pygments>=2.4.0 in c:\\users\\neoch\\anaconda3\\envs\\cursodio\\lib\\site-packages (from IPython) (2.15.1)\n",
      "Requirement already satisfied: stack-data in c:\\users\\neoch\\anaconda3\\envs\\cursodio\\lib\\site-packages (from IPython) (0.2.0)\n",
      "Requirement already satisfied: traitlets>=5.13.0 in c:\\users\\neoch\\anaconda3\\envs\\cursodio\\lib\\site-packages (from IPython) (5.14.3)\n",
      "Requirement already satisfied: colorama in c:\\users\\neoch\\anaconda3\\envs\\cursodio\\lib\\site-packages (from IPython) (0.4.6)\n",
      "Requirement already satisfied: parso<0.9.0,>=0.8.3 in c:\\users\\neoch\\anaconda3\\envs\\cursodio\\lib\\site-packages (from jedi>=0.16->IPython) (0.8.3)\n",
      "Requirement already satisfied: wcwidth in c:\\users\\neoch\\anaconda3\\envs\\cursodio\\lib\\site-packages (from prompt-toolkit<3.1.0,>=3.0.41->IPython) (0.2.5)\n",
      "Requirement already satisfied: executing in c:\\users\\neoch\\anaconda3\\envs\\cursodio\\lib\\site-packages (from stack-data->IPython) (0.8.3)\n",
      "Requirement already satisfied: asttokens in c:\\users\\neoch\\anaconda3\\envs\\cursodio\\lib\\site-packages (from stack-data->IPython) (2.0.5)\n",
      "Requirement already satisfied: pure-eval in c:\\users\\neoch\\anaconda3\\envs\\cursodio\\lib\\site-packages (from stack-data->IPython) (0.2.2)\n",
      "Requirement already satisfied: six in c:\\users\\neoch\\anaconda3\\envs\\cursodio\\lib\\site-packages (from asttokens->stack-data->IPython) (1.16.0)\n"
     ]
    }
   ],
   "source": [
    "!pip install gTTS\n",
    "!pip install SpeechRecognition\n",
    "!pip install playsound\n",
    "!pip install PyAudio\n",
    "!pip install IPython"
   ]
  },
  {
   "cell_type": "code",
   "execution_count": 14,
   "id": "3e9bb653-ccb8-40b2-b7f0-113faa4e7691",
   "metadata": {},
   "outputs": [],
   "source": [
    "from gtts import gTTS\n",
    "from IPython.display import Audio\n",
    "from IPython.display import display\n",
    "from IPython.display import Javascript\n",
    "\n",
    "import speech_recognition as sr\n",
    "import os\n",
    "import datetime\n",
    "import playsound\n",
    "import base64 \n",
    "import subprocess"
   ]
  },
  {
   "cell_type": "code",
   "execution_count": 7,
   "id": "323aa881-2385-45f3-8ce4-fa3887bdee41",
   "metadata": {},
   "outputs": [],
   "source": [
    "def falar(texto):\n",
    "  gtts_object = gTTS(text = texto, lang = \"pt\", slow = False)\n",
    "  gtts_object.save(\"oi.wav\")\n",
    "  display(Audio(filename=\"oi.wav\", autoplay=True))"
   ]
  },
  {
   "cell_type": "code",
   "execution_count": 8,
   "id": "5d57e66c-1688-48d2-a909-35c414ccf97c",
   "metadata": {},
   "outputs": [
    {
     "data": {
      "text/html": [
       "\n",
       "                <audio  controls=\"controls\" autoplay=\"autoplay\">\n",
       "                    <source src=\"data:audio/wav;base64,//OExAAAAAAAAAAAAAAAAAAAAAAAAAAAAAAAAAAAAAAAAAAAAAAAAAAAAAAAAAAAAAAAAAAAAAAAAAAAAAAAAAAAAAAAAAAAAAAAAAAAAAAAAAAAAAAAAAAAAAAAAAAAAAAAAAAAAAAAAAAAAAAAAAAAAAAAAAAAAAAAAAAAAAAAAAAAAAAAAAAAAAAAAAAAAAAAAAAAAAAAAAAAAAAAAAAAAAAAAAAAAAAAAAAAAAAAAAAAAAAAAAAAAAAAAAAA//OExAAlGpoYAUkYAQBgDAGAMDZPIgBAAYAwNhsnRo0aMUEiBAgQIEDDu7u7u6IiIieiIifXREREQIAAYGBgYGBgbuiIiIiI7u7u7uiIiIiILd3d3d0RERERAMDFu7u7gAAIREREd3d3d3REREREFu7u7u4AAAAAAAAGHh4eHgAAAACMPD3//////xwAR////5n/4GHh4eHgAAAAAGHh4eHqRwd4wkFRXQ0MsiIe469c6RWPMhuVbEuMOCygKpm5//OExB4vBDJMAZuYATYyhaALmL0Smy6YzZu5uLmFKF8TmplorTWyajpgbqNlOktc4gpOwywqB4rnl7oNkoaEQM+aDcLpUc2NHUmuq7HTIiCBiaHT8ZQmBIyLkyOaw5SVm1p3TfWu+zvl1T+n/92XqQrSZlWQTZaVJZTJtlWSWiild1JpGL9NTVv639Ut01tWt7GRoifltd8umSSVSZqiampkeTJEiQ3yCE5kSrACo/oBMFegkTNKBwKxm0BhnzAU//OExBUsHBaMAZugAYSYV9GpjJgAMBuoOAw4+Kp6A0HAwZEEQ8G0gNQgDpgMwCAzpoCSQZoiJWOCDTg2DokRqVzJbOuWzA0WxIHzOirTzictsbyuxkkbHDRO1IcsrszoHiNJ5jyKBKMRctJLQdpmSCycM0T5o5dEIxkVDYHKIgUW////T///9//73//qqV/6eyDGlB2/6arOxoXTQyNTlP/7LdA1QkBElWxILwDOuKZJbIKTK3WrgkIGEQccZNRn//OExBcsvBKAAdxoAeEq/IEg9BUy4NlKVNV+rxMEEY1ILV+UUJGgbgLRdLiJ0HGbpWTE6NUWYxIiSSsjqZo+l51uokz1OcIJCUdKJMBUJJ1mZdRrRMz27jMi6RKkgBLSRmrkwcJqs2WPhWSrIFo7zzKU63////////7+nU6qFHX9b9a37req3Ur971KZA8boE5ZkswNiafMieOwyMTx04cMEmdjczxDO4HQTWh+AEJ5jxmmSw6mpA80IQScEpJic//OExBcr3B6AAOUg3RLuNCfwlARgEmtBXXCGigE5APuvAsGEJRmXDOQWGG5jWLkJM3TUdGiutlkI3km/KJP+TJvrSG+7m0fBDTdF2I295Gp6SI1SfPmRqQ4FMXIUJoWBkyfTSWNYnzBAvl81ImYrQmX///////V9JDrb5oghmP0t7JIIMqbdVurV/1vTOHmRRTKSjcqlVyOLpwwN1TQ3UtlLNU0TVXSVqnp11jDQwHnfADgpahcRBbaGHg0ou2R0//OExBosRBKEAOUa3VwjAZeEgO8sphgQSA/u4LFRvj0TJEQcoFwF+gM8Hvl18axurkOJzyobr0yYQXrJpqpGigDxhj8RN2ykmz5dN06lkgVzQnDoVEAw0COZIlZEKBmsmCTBay0vHh7DyLimsv///////3b19S0PSRTQXRVakYpMvWg2iya11ft/puszQQJjTE+gPcxOGCJWUzpoTVqQdbnwMpq7DX7oBGbghz2OTKehjVfHPignrFKV6SUMhxP7//OExBwtjBKIAOaU3EtYYCmo7mcKSO/Q1BGCL8SDf1mjO5zf1n2va/+Zyzn/lKsv/9Z0mH7pYzR57vUr+wJU3llNXe91lfpMOf9BUvfTQ076gAFQPgoQGQHhAjdixo0C8QwfCUTCEFiWVj///////pTRT3Q5eyHnpfcoiscYt5iKaajmKqOa5jGd7/+yqYToTsUOIyIbFCRCAWQsERLIR8N0J1PJgJQqqw/ztECR4Fhcjpm7EoGFJQ+pNLIMTpID//OExBgk2/qQAN0O3WuhhVN5YFcMgga4uVVm5iVgFAZGldFzIZ1fUQ409MqedQ8yPK3LozCB93IcQO+ovN0jfqRKKaky6XABwQGFGwlBETmnIERYxDzTiKv//////1df/b6vqaZrjxDonRzjPX6t6p/6yZpw4xIgOmshouJDY4aDUbCka5438tW7LsK76CEKmgwErt9LTugUfHa0WCi+pB3+OkDgK9+9F0jABUQsgmY8JgLEQAAQ0SsXJiYN1Eqb//OExDclo/KQAOUU3fkybvzF+omjVPUWRwE4nSLxeQ6KKHWibvZZ43dR8egBQHwWx004VhbRpwyEWQFlJhhPf//////qzq/+dmXY50anmzUn/Vf6mXb/b9Z5h7OTXMVCIwsSCrIiUfrs8X+QlaGlrSl9hAKTNhEStlUAvwX/OdKYMPSvaeUxslBytXKyZiDUIFkZJFtybFygGQSRJ5zRRDSBldBlGIwzzNOkwh5Mld9Q1nNzjIkoTJsp8zX1KbVM//OExFMny/KMAOUa3VBDUsnXzMkQ5oKsvmKzpNJQ/TRNSiU3W60X///////Um/U//19S1tbSf6vX/bs2upamZkEnNE0S4svFw0ZyEPIxMDc1VKSWVMM20T2qgvLdyPlQAGMi66VyVMJKgYNNxwzkFGtw5XrKpDQD79iHAGwRBZqxeEISMKp90CbAIECXjmE4gmVBZA4Dz5Mm+uWGUggUhZpFjVNZwvF5A31ov9b60Tq18vFkuTucLgLgaEZVHxGP//OExGYma+KQAOSU3c+cPj0Vm//////9eiHmev/mmoel732VU0//f1ob0Y9S7nnsREg8NOJEPIS4rKRG/cv/dKWI5f/YgbHLKIUVdrRckROIbsP1Lc6sqqSP/4LAuaRv4JPdbrrD8nih1mzkTIwVTbEsYoC8Xo85fvqHXKdJqh88d/8K6m6fOtX185np/nELX/uaQIzlg8AmC9ICS6jIkSaorE60/////+//nHHtb//Y8fk5x57jweF552ehjrVD//OExH8oG96MANvU3Ayynz5h5jD8iKEJjnCuLRKF0QmHj8qPC5UoRkoTYe62LWqIM31nMM/NKw0k5BPUqYYYGnADrOI/Uzzkk9+x8L8y+YvroizQdFnKgvyVSlibIIkksmjUD8JQdJSVjiGCKRWUDY8SKM2NUEloO9aLoKzBfZRFnmGo5wBM8fkiqMBomykBz1p/////9s39X//fvY0uZHyGSc0xEIjqrJjnMzXk55qOcSmqeLJw3LiuSFhqUHpC//OExJEmA86MANtU3EjkQJtVd+umXHboINGQIMxAtY8c2/iao6HDCYXa9Lct/HP3zMRCfdavcmH2tUPZutYyGcwMicAHpHLhUZj2YW7IlxA0Ihuw70JWJ8UUHQQkukhuZIPRUhG5GSqTCoPgQyYmdTRi6z4+U/0/////1M+z82f+3oa7nSAfkwgDDzyAiJCU1LGIcx5qzVZDkNdlNNVziJypyC0SGiwMDSqmAd/KGGwuVlKXaCgic38gZ1b6DWVM//OExKwmw8aIAONU3KhCAmyhS37OfPknO/WsnVGz/8Ov/8HZvXz+idf/bArd63ux6j+mf0WFIOFNstdQFMTZ7uLVveJqJe+IDhG3jOKZrrKsK5xyqcDAaCHNLNJyQ6rkRATK6LX////+r39kTU9t/88x6EBOXJDSYfnKQHVY1Ub7WRUIj0Md2apoqj1BEOIJyEiPmEbsdvCYeEOIokXp6EL2PCHR5PcSUNzg0lKS1EzU3z5VY/mAtrr5w96x765m//OExMQnu9KEANvU3D17D6ZSDoibwvsXzBMuDPAERsgmiZkOFYPuXyq4hAHuuzUyfNa1IrLdSNzxsuSjMD5KIoiMHhwWW6l7/////p+3uezLUjJTbGt+hvmONR+TkpckIkY9lVHVWVdb1nmmHn0OlJ6FSViIVCyDElQgPPoP63pVmBYE/eh9TQ6XKFyNfed+C7hIUwx8PzTa1ZePHLmGbGHft3/3x07P/zUFs05l+/ciBuf+4IYLOZZ/kOtpXwxI//OExNgmE9KIANwU3K7hFAkeeis7WpgsMkDK7dazcME1qF2zUrrLkH5fj1hk9n/5q8jsUxzCAlDmbEqr3o0gLLjjO4KR/3/i//+X99/0kcPj/3x//TOtf5T+a7+r03bGsl3fZpb3nr/fwPjWdv1+WFttq1RPvfw31+87b75vSbcO28ZvHf/qdmVkFinamVnVDxW1iqPUz+kG+Ewpj6ArambkgCXrPXBUDm5qeJEtjlV90zgsLQNCHdrZ43XYlNrf//OExPI0W9p4AOZe3fw0k3X7j+T2W+8/3YW7n+/2tidz/9zS3/+/HSoA8OIjw3j7lKJgE0PTt2g8UhA1qGIm9SE8NdYwwz0wmfw/LVR9+cx1xJpq9dT1BBOkY3bN8TweMGPbMA9KZ3/afecb7289L3eLMW9M7rqn18O8/4zF3vefRYvnF59LcV7bERk/+K41q+M1Q5kzOoJZKa98P33xfOZdaxvMdiznMaI2xv4G0qdsFnc1EwPGVSbc1YXhxeeF//OExNM2c9p8AOYe3VFv/dDG2W4cAaXtaPPiIggax8yISis+7I0IB0Hm/gExWj+7fXn39d5KCsmh7+VRe17fP2ksqDDuPzYqHby7YydAWOkNPIYfLGBykuFIozZpyUUmdabW1LnqBS7qVqCAaQsixeK6tfMswr2Px5QQfXvZ88/c5tnRuklezVQ6gF4eDA8YHj6LNb/49f8Ycre99Qnm8e0RyzjX8CSuv8KuPX07SqLbph6aybbFBvJ9lIyR97sd//OExKw9xDJ0AOZe3AnMRLx1cg3NwQ5XP0C7jQ5W1nT750/jXcoLyJEqu43vRuWmdoeOLEz0VhlsSfYCXRDjOw5EMPKTSHsj2WDTGd/OqZ9MzwnsGJm+50p1SXfpp8xdSU72Xxt9i/Y4ADSgJcTHHWa0NYIIMR4aUyCFxTU010BqCU63Jwpg3IJwyJhEVuCGgzRux0nRyhQQ72dljmhq3WcNhnRoVsbF409jiddpy1sx3padMYa0n9HWtF5Yuz3T//OExGg11DaAAOSY3DMzMznbm52Ns9XuX7Evt3Zeembs/N8nhJ90OyUoKaNedGKowA6cmcnr6ROXy0RNXQNHiRlslD+tKpm6lLZkUCYUxEAYpH4xXGCEl6z+2iUWlDifomK8VS0KBBSHJVx2T+zNs6/9PTv2m7TcU7m3j+qxDti3OCEeb2ATHrFmu7KAMaAz2OX3pPrU0fMPXQ07aPiMSLq4mAJOQ1qsPNzUnbI7utknTHT/slv8//1vj7/+p8Yl//OExEMw1DKYANHe3dfGv//im8f6n9q6zJnGNfM9ocPWM71iJp/bPbHkJkvFcXzOfja3pZCnZNFGrI7HAL+qoKrniTM8isiaVMJhV7dl2nGdJE4Ti5dpgxEWeZ/zw2DcBSIRlwj2mkn6kcE+r5Wy91IyZndwUfEo8keHI0K9/iPET76Jl9R5iBNt+/jpKjhXUs4EeFY3UJ1Z+ZP5/L4wVIwy////8z5///////+f/n/Wf/jH//+Pr/Fvr41r7tmm//OExDImhDqsAIhe3PWM61vHx/873L9f6bsQ4NrSytjFBs+rFtGy9jvGrF9OMdjixIrj10tLmMzqNpJO5LKIeNCMtM1PoE0t4NsOLgxQEm2NkFRLklCJReKro4G2WHSAxskPbxOKZzhSqdXqbyUUiog0f3w6UXl1BIQeLayw7+3//kfn/////LzX3////6////+P/6f////4/19//d/7/dbY//z8fNtY3u/nu4Vh2jax8TQd53EivJpGNMN7iyxJ//OExEsmnDqsAJBe3GGyYL8rV2eD5bM8/FEU8xlqN6c6ojJ5zeOT6yEsL963umxdrDEzu0PPx/EJu9MhPk5P5rZ6osytODqqcQ6y0hWk+fszEyOkLcrK2B4LnCi1Ua8M9B7Vkoaf/+n0F6V///9f/rt///P///+f/8fGNff//+P///9f/HxvX+sV+fr//4ri1c/cfcGXFcT3an27x4Lx5AlzfDZAYYMeKzt7I+cW8/V5wSbEdJzn4P1XE5GcYi0h//OExGMmlDqsAICe3OjjNVz6qIuvQ3UKBF1Hc2OQ5iUuSGQnTpdWgsFoLHMxdvV6rRLG7ek8VjErrIaqztgNb1mjK1kV/vcKdrh2APZnuoquaKqTTJKepdlnPwxUbx+PzzTx8AYFIYP3UmJCdkU36dPfX6K/dGf//////8VMInP///88dQ0PNNqlft8xzP31fRIwT0bGLCjOeKwMWbD4cdRNiKMQ0gRqCQPoDkACC0VlBDARAMLCUAKQLDxVWnyp//OExHsnPDqoAMqQ3F4q/pqFrKOLqV6Gh1cMLCxxIq4qaQAsIw0OTRoKQa02orS7c3cg0sDhiZrDlijdhpZpD0PoYYcl83mloVC0k4v1ZeCIAUQWy8XERIwucNzMoG5KAbwpFgtDsJ0AH4KLNSAFqdIO6GmT7q59VBjpDyukmYIEoqgszTK6DWqur/5ZXXBMOSfYfG9VqJQaR/X////3t54alF9W5zplS4e+9lVUrIVdGhObClIxbzW9JIkEcvAT//OExJEuw9aYANzW3SAsgQJx3k86ooSCQxzm22b6uN3HMRPzcoXa6kTDYm9h11wICAH52WHj6vp+Z0jvnFJOvUsQarYaWMsh9aB1G9IKz8icW/VxUeSpg+V0+paKArXmozqoIFQMe1OSzsfBjoUCW/S2foXYpL37+PV8ufyhf+X1r1vGTvpjhhq5ILOf7HiZAhRjTzDTVX5UcYzHhWw8WICkoI4vcdMUhPXT////6OzqtTHecdN6m2nqlWQiNYPE//OExIkpmz6gANZOvDxoUPUPEk4WVFLDhpUmQu3ekF/QsVNG0tGgsDhtVYhKv/JooPI1u90+IwBErlPSudOITTaXSgHP4Q68QVYN0VuMiuWIBBCyTERrP2oma059jt/EH2Z6CAwg5mvd4Sp2nM5q7qGnnou71Vhhp9N25KZSvV7cuW7L+5b3rWo7P9y79+c7j/OED60KjRnPEYSgRFxA4ug4hAoyHH//////0Y/XV2VmVvucccch6Dw2EobCUWnk//OExJUrXBKcANZO3QcOGo2MZTVMOPfTT/vvSrf/9/upYoBa6sqAoZ/Cu3A+akmJfNxylT0KbVqPW7sWZUWLwQOeVwqe0tI3Jj6kRzlKpgdYbyVy9jSIYxUBxxtZFrBfKbFznPuO9CO4d7DLy3/sVKjMl/yuxAtqJLFaHR3Mdymc+asoN31GwlzT2GwRBADw1DYLQnPccGwPhOeeQKGmk0fUzXRfr///bv/mu9VN9/uceNVHzxw8auxMmWPnmD6f//OExJopSzKYAM6OvJHLR3s9ZQ4IQ2AF1dTWWM0skQQJeOVZT0uZAayUpzxp3o3HTB6ONtRGYtS5qoATNkeLz3I/ArXwVJAMuvNZEZBn+rjv2L3vs1/PPX/nIv3+FNDUrl/a1NKnahyWXZTfrP9GMf5qsiezMfaeSOEe2ihBAVBeF7KDkHAIPQdOowQ9L1GP7a9/////////N/FxN3dWW18xfdf3CVr0XeNFVqHqjVESj7WIYr/0D2XXuTYCAfQh//OExKcpsy6UAN5QvI4xXGmiJKDGoJ5soMkhD6CMLhphIwetIiVemJgyfEKhxoaUPG8CX61C3g68HT01JEIuABDIrXZBDUrLzgBkilfPsquX4BilPjz+TMJv//KzMmPW7meNpgTs5d52UxmW9/usdWf//3Zs9x/LcVFo1UIRgA0VsPiIVhsSnHHOa/89/////2+ppjsdITjn5pv2ISV2Q8lRZ5hyms5swfHMayt///9vp+d5xz3nHITGxfGqHAQQ//OExLMr3CKEAN5U3ZrRy6xcUyDAg9vGMx4H0xsEMwRBIsmYfFKZNBySBgYDhaco+XOT/jZhzwkiTVWBWaj0jzLzCnDMhGtr1UDWYYM8assVRpEHSSLZJXN1chIqnlNNaswH1dsdOlJXNbrASZEqOuDyRAFG0rmWa2/preWns3Js09azZ6dfnfVmJcSDi3Xa0nevfyP5Yqyr3VQ0VcWxEPCQ7//dDX5IRFRlKgCgOCeR0LYDoL5iIpJmcyKMYGAF//OExLYoKaZYAO6YlCJADNQEIAJgIglmFkCapw5LdVBk6QI1grEaaAFBGhQNdxkERfqfnYYTADADwbsMuw5ECRa1lP4bz7jl/cqapztWet00y/jkNvDIgYwykO46MR3MEi0NCongJIzUnLTh7Z5LSSZfn53Tnza6lNyLKFmNGFzp1emxi9l57RZ/+0wwq+0WOe2lMGILgwqgnjAIAFEIEoqIgaBhZxikgFGCoAiBgAmHhgC5hNAahwIrSKNYUUwI//OExMgmsnJEAPYGuK9ncARhpig0NQutpukSrU1RShQxkrOpS4bKnfitnO3reWGOoCqN27T5gkgCjGJlSpoWnJ6Zp3u8hTPMMovayN1rdkZh0KmfBJTyIUL5BZg6ASpIsQKimpRBCeJtLJ9qdWwtu19mTV96VQCOg4BafwVA0wPI45JVkLhoLBgYBAeED4YNiyYoBsFQpMHQBW2YKg+qqyhMdZy1GXtfbsmI3Vt5uaSEbM9+D+l70+jfVPp7UV0d//OExOAlUaJEAPZMlBPFMNSh5WIS3OnmJbL8vpopE5+pVh+pYuTk/ELOcolsvt/Wqfnfzv7x+xX7SXpuWZ2+2oxMgcKA4wiuKOkw46V3I3d0JPyIiaEIz6Mur++6NPoQhMhG6nfV+SmiJ6Ev/q/O+hG0I3V7K6nRTCjHpKhHwLOwHQMxBr5ZwyyvTmq0CEeEDwxUKTNrpMtcA0I3zMIVDhMZsfxxRJF1WqOSVQskay5zUjhEENMCcN01HBAYFqC5//OExP0vg9JYAO4K3eDqooRMmUBoBQBT4EFmXeHGLmfCBwlAEb0uaR8TRDEhwQyN0QYGqpFS5hVCpd6QQI4GEIIWP2hwMIGMsUUBSHLPmJDmNPmXAr9QTqxqZwqhbAiYXYiUzElbFIOPBEOvGwV14g1iQJtFAlZ8BoAEZAVBENDd+mWmUrNnnfRtHbrVa9vD/5rf/3CH9xvK5Sbzz1rmdvP8//PDf/+dy3XzjdaUUmGFyURipLLtPT085Xp69Pcv//OExPJO5ApsAOaw3XbluYfyWSRUkglFnP6S9n93P/73/3+8+Z/uvfqY9m5fXp6B/JNbpL9SxqxnTzF7GJxpnEttYLCQbJdZ8f+3bwx3T1qSxwMUn7/FkkgpHDETWNM7EFJl6DH9k2QdVQBQMPBpr88dAJsukKZYODlhqS26BcN3bU8wxIOiprzzoUxXCAWPGEBlvYdfwsiZcsYoiBhJiigDCHTFK5R/XYIwr7KcvPBI8DUBcyIKUCRJYVirS0Dx//OExGk+c9KIAN6a3aILqS+CgADE0IEVnqdxkjXpTdiDqON2ff97nZnaOG41dh2QOAMU8JSMCE0ElIgFCE+FmF6C9CGCoBVB7nVmaZun9mmSZgaGZi6kE+vS1f2WtJNzBjjqNECtyw+fMXQnklH2LpcUbMSxmtNkluhX6NDVbVdeySaqa1IJufuXDiLpEoxRPpF8pFkCX7tTCI+jEmnVLVfYwoGB4LUUvVIYwBk3OrmMCGg5AdwcRY1OjoJl9JlJ//OExCIu1BqYAOYU3VMp1r+m7l+pPq6sOtWl1fTLcWdoVVy8S6p6DDAADCQBL/ERAfQ7iaddYG0Z3rU4yBwWC07S0k0UWCv6hmj1B83BCKjX4F5Uj9BS2JiW3LVSWW61rcxbxqEAqlREkpcQgtCCQFwAsPxZFgSyAmOVnT+dmOztbp//9+cs1UdDjWVDrf//////+1fOZc8w5Tx8erGOiL7ayIgeJ1WYqW5Yac80yLxgKhwNpgV1lbTj0heyRCnV//OExBkru+KUANZU3W4ICpFjkvteuOO0VJFzJu6nFW9VRMZN34LUsm5qHwYpA09XHSTnYUGXFJkM2m2cIfUHdWWS2G1WXYQ74jFeV/YwsGBhnGcbssfq12bhdnvMYtl3OfpcdZzznKNgvRZJSECuCyFCTgPgCgvhaiwTHUPb/99f7X/+09kPsmu69P+bMX//////1Q2uXPNMMochd+EV9yLnsIKY/quYqIcZzsCEijQRo4ILAXHZKAhjBUOp/DQo//OExB0s3BKMAOaa3av10ZceYMjcHL646HgXDBpa19VoNBItku44FwINAyG7DZg7qQrqxt+CYbDN7JjbbawT3BAVPmXSxnIQSfeOt1Low7V7FF7d7NvLfx+bh6/yniv75XpuqMx2mM6IOC3FpwkwWASI3LyjNbpkgk7oL/3/0n6r//Sd93sku6vf37srf/////tdXuyOkyVOeqTME+y6SCzU0rW7GuTZkZlPSiUiNPYpOwGosaxLBxmio8qsw8W0//OExBwn+9KQAN5O3RhQppW8KqHN+t/6VE/hiouvaUz7AAc5Pv40UAzojOrBYJRM15m8Zuvev2plAa0pPyCSEebrR2BwcdP2ZhwaXXKdr1rPslx1hXpr+9zf/zuGrCgvJGGkwHHmupY45TEQpNIVp//t//83/1b+v+2e7v////7830Or0o7uag+CBAepX7us4JmGc24G4OvLUZmFopMVjztiBUAaaOCIZagzEBxa1ycGgde8CA2zf5D6EO5IjYGE//OExC8n+9qQANZO3M03UAmg78aFtQUAYSZGa5UCiIYTIKd91zRmxMKKs1q5NzYFFYKhhRCH7Mofh1sM6ei7qpSWuZ9s65hey3T35bjH42LCTEB8iao+UJDQsKUCAWHC6N6P//2//////+1NkNnX///+jf///6zSMYKObNw1pWuSlkwllr+mVFDNExH1x2EGPSxto9ON+YKIFELfMvjA6HbW/gSCpVWgheAYtdWHjBDEK3Etpzm4AsvWLYRThLs0//OExEInWdKIAN6elO6KYxxXXCaVVeoDKcqn+VRxMJ3lOCdWG4vkPG2pQxc3c3usMcXWGBhcdw1Tt/Ob7Rdhjs2LP3kbvIMHEjem4sCGDX///+GShQVtt//S70RajeXFFvcGHnjoqFlKkj0wQOlpho1D85IzZzWHKNDE4Vya4XzY4BehZJyH+jY0KtzabhdWkhZIAHDo0F2104KB75TXT0gJtqFw4TS4XYcz03qK28Lq2+xqGLmKS1GvWMf6Vtlg//OExFcmecqEAN6elGX2mfb8B7vECWLijg+owGQXJmvDi13mDWr9yf2qj2NqXboKnf///Y8Fjj3CE8WZ/+hZFRL7bHXLDiCA9pIWJBcKFzeaVe6QgEoKcjDX+IRCYOJiLECmDCEcOKYQEWDUBgcVo0OwzpUj9VF2BZo6kDKymDmAo0876MTDgr8/LGc0W8HJva+Szvfmccfwpf+vLcd132s6qtwfq32V3tdrd7vOz/1LWX4UvPsRuzz8O57KUGo2//OExHAm5AqAAOaO3T6A+MB0PGm////////952YdRFRqf///5tK0a///93mK25iMa5qIkgaTpzVlibHo0DAEHVltU6gEADhABFQYukwtNDCYRS6jLJzAgEeOJwgiD77RMEXHRKv3aqIoK7lu4jq3uqzOrXd02v/PL/pLX/Utf9ezzV3Hn3IZluonKrXcKXn/jv+91/M+apKGNT9WnpecUVnGCwscTArDSipUf///////+m6HEmOhDo5vf///VGQi//OExIcmJAJ4AOZK3VWX///99BNkYzIpw4gkYc7glXB3DhYKRugAxpW4xeIDogRLAkFBQYL6Rg8LCwLaiCQOAiLNQUhIGhU+LODCxmfMnst4jVuo0he2dh6Jbzs3znbt7f3M//Ln6x7zXO65bx/UlsY1KlnHd2zz94/ncy3nNZ6qSyHs6fLJ1UrEFTC5zV/////////7oQYIJKBhpRisYtf9kuyyDxzEGtEQ8VW////85TOHCiwiPDA6ggg7xMqH//OExKEn2/5sAOaK3FujdQgrlIdLPI8mW9+bCEJIGBYGG7QEERgWCbJDCgjhE9KzDIguKTC9AGMai2kkUwGhw0kCOFWVpYOpKWVk3Y/rPM5itSzJB0jepSe5NGRuZFGtRWTqfOosktGouHlOam2ae09stov///////6985ERzCZwjBQ5j03vb7+YYiIY544fOro///+1jWq0wopjOLVJAEZ+aoJUgjOYIJ50gODwIBoDM8SdFRkRhQRmXHua4IA0//OExLQls/JkAOUO3CBvwqAEsoFdkGBUHDxkAW0A0wAkc8WBCUsMaSeNDAyNS+boqTTRSUyKDstJdmdmvqSZmTNkmdmfWq1bni6ZLNTFT9+5E0cOOp////////vtmGXPOHh8WhAIpc9bN2//RCSHqa5ivb////zWnnmnoD0xCY8ff2JSQkrAEPRkFmDiAdKyIQkx4DFU4nFnCZQEKgZjQgmdG2AsYYbAKQi9UUYJolsFAbBujiSxfS0dMDNO9gKZ//OExNAlM/JkAOTO3L4na6q57ArPPPWsS0XON4k81oNf6Wl8bcrLBffOPX6titmuJCjtjlvftvfrXoqmp3//76df/9HNm7qo6ahNTjCo+JxqOiSGSo1EpxscarG/2VFNoYXImxGLnMbaiU9O9LHaW0d2Gx1zTRqUEYHxIqSNdu3fZFZVEANGDIOCIMxGVRsjDxqWKxdMHAqYNh0IAGRHbQLAiBgIMEQAEQAxiAG1dlLCnMhUFU3F+YG1iosPfZUr//OExO4sW/pQAOPO3dCOVhWI8XsNdavPCn3m3fyQb2w5VhxHsKdlvr/P1NeS3gva23qtK7t/rtnZnyGmi03LqX7VrfJb9vEfHxpid13bcwud1UyySplF8qObKNctE8AjVpMluefT9u7f/tr7VdzWfIqIXv9ZDtefyzfX3f5eS5I5RLM9I454PAlp0gvIETACAIMFCoiBdCl7FY68MOQ1b+7Mt1cSMxCWSERjICwBFY+llYIyItPmBgqq6pchODti//OExO8u++o4AOvM3ScfP8q/rFrdbG7PpTrIzq8tXnLUfgs80/7MVJ+rebv91Jo6InyoOVAVBykPpwGyEQmgIsGnHVpHddHYIQJ7FYtgqRgLAmIVgCiVPis2iWLESsxLHcenY1gwqVG4YCqLYu7eF3IoAOwVzgWAsnaC3QE+5xRJzUNV3RtAYRGdeOrCxnK7rlWgt1529Bcnh5uU3DC6GsYZfYT11OqH2219tduPYdriVnzrvYFoT2FPNd49mc3z//OExOYq/AIsAMMG3W3fPoNXKHnbrdYblfOoG8RtQNyeurRdbhQ6ujWvTvDpVQ5At6g/L7Q2RqdqjWqenrzpdVMNzToenlaZ7IxklmVU1h2vTS5zteG5ba9lPpbY/Op502feVB7ltmnbN7lTpst5jatzIxmxXdkm7azJ6eWlKIrzgrKFGmBA3Ri9WkqYdt5ZZSqe5FXhk0GNllJ3QFBECWmVDbZVQsJl182abaopOjh2SFlhiZqCeb0iLBbRVFF4//OExO0sM/ooAMPM3UUOqMqLqapPHNJs01CVTjdTc7pEYRRe7inRbeG3kalyykixqJxTqw+EUvtxOQ6FJH1slZHs1NJZ8bFo7cvOkop6VNltScopXaaCf7Yz1p7Je9IpX6qMQXVISSKZN7onCJF6t5vDrNaohp0v9TsdZ75Dt8yi95gfIWGj8qpX1opm9v8Jq3ZlzcmdXolD2uysBo0tiTUj6GbQqaLlXE4yyOkLOJpPY9yIVo5BEQ8VJwoVW1qa//OExO8sfDogAMJM3NFVDA1sljNNdITPFRtEaersVgEkckk+NaKrU+PtJNKzZctRpgKR1q32xrYUjiSXIoAy1BM4xpGYw3DyPjGzvidSagWRl3eZkvcw23JkUZymw4lVMddEkjpcUSSSdKxx4Y30jpaBRIvjTtNNxaDQAUS1mIrkbS0aLktZSGo2mikby1y9+GsKtXGm1nQx6hpKbUnICAPAKQOSaupKpMHCI0/ymOwWnqrKJyhZClO1a2V2QlYJ//OExPAupBYMAMpM3TD5ZewteUZZj8R7G1VVkVIq1rGSNLwtqbPX+Zf31HOIlwake5xlBTvb7LqIoFl1OEcuWlkTDna6Jd0saSyoS3+3QjVbkw0tVxbReRNtFdLoLttZ0s3Ta19oj61yKJZcB7U5ThMbqKGIfMm/6fIk5iQ406DVK4q1au0mdvW6lql5Zys17NiXdpjb2RoTEIJI0BGJ0AmPn2jRLMNK4sQnd2Oy1ZNCK9LkD5kohPaNtIF0BpHC//OExOgqDCYAANJM3aaEzLXzbaTMRXg3BU7rFlTSYpE2lq1jgRBFFj2oqjWT2ndpNRIlpWRJ80FkSNxTkDrKSXHEF1JuJRrdKiJdJCRp6LK2bx/OFmolY/fCSRuKdG3LJXpl7Lvll5RZ8yjPWRa3fE1OqsVe/bGJYUxIcuq1ktLc94hk/FHllTkMQcrYQlY3Nm7WIQ+8hfuedzOH4MsRPW56aQCMVEi7AytyRuah4ULo0DicSzclEUipiU+ehRXT//OExPIuVDHwANpM3TA2oszibOspydZlOMUNNpTUVbhC3sWetM8TRqiyua8EVnV256GFtrNcwbC2XDFyrS7pGD8hy7O/Nz52LpV1Bc0bqnLifO026bkweiV60qVPsYmi2/DWmdaWxOHgvG6kyqxMx8mkXMPkCyC+xF2bO19F9iot2zXrW10kZWU1+gd+bBaBSA5fKsLAm+cKD2sxhr0GurEpEiJipKFjYIkAaLCYqZLGiE8AYoGip4VTZ62LPIVG//OExOss5DHwANJM3ZNlZlZ5CwTJskUEWxitrNRW2OVKaEKMBAxIYUFRYKX4YDRIIUFIComrGBjATgIMSxqTdOkGcBBCgphSYwGCgrrG/jMYCCFBUbY1QUFJjarD6TRlJjCkBAhQUhVKfDWMpBkFUm6UUM4mCgYwEgpaQIEJBKINkyiyiiRVh5NElhRVTEFNRTMuMTAwVVVVVVVVVVVVVVVVVVVVVVVVVVVVVVVVVVVVVVVVVVVVVVVVVVVVVVVV//OExOoto5HMAMpGvVVVVVVVVVVVVVVVVVVVVVVVVVVVVVVVVVVVVVVVVVVVVVVVVVVVVVVVVVVVVVVVVVVVVVVVVVVVVVVVVVVVVVVVVVVVVVVVVVVVVVVVVVVVVVVVVVVVVVVVVVVVVVVVVVVVVVVVVVVVVVVVVVVVVVVVVVVVVVVVVVVVVVVVVVVVVVVVVVVVVVVVVVVVVVVVVVVVVVVVVVVVVVVVVVVVVVVVVVVVVVVVVVVVVVVVVVVVVVVV\" type=\"audio/wav\" />\n",
       "                    Your browser does not support the audio element.\n",
       "                </audio>\n",
       "              "
      ],
      "text/plain": [
       "<IPython.lib.display.Audio object>"
      ]
     },
     "metadata": {},
     "output_type": "display_data"
    }
   ],
   "source": [
    "falar(texto = 'Oi Izabel')"
   ]
  },
  {
   "cell_type": "code",
   "execution_count": 9,
   "id": "f6ef776d-c49d-401d-bcda-b45d6f696257",
   "metadata": {},
   "outputs": [],
   "source": [
    "def get_audio():\n",
    "  r = sr.Recognizer()\n",
    "  with sr.Microphone() as source:\n",
    "    r.pause_threshold = 1\n",
    "    r.adjust_for_ambient_noise(source, duration = 1)\n",
    "    print(\"Diga algo: \")\n",
    "    audio = r.listen(source)\n",
    "    said = \"\"\n",
    "    try:\n",
    "      said = r.recognize_google(audio, language = \"pt-BR\")\n",
    "      print(said)\n",
    "    except Exception as e:\n",
    "      falar(\"Desculpe, não entendi.\")\n",
    "  return said"
   ]
  },
  {
   "cell_type": "code",
   "execution_count": 10,
   "id": "bed85909-43d7-40ca-a622-ba2c6f54ebca",
   "metadata": {},
   "outputs": [
    {
     "name": "stdout",
     "output_type": "stream",
     "text": [
      "Diga algo: \n",
      "oi testando oi testando\n"
     ]
    },
    {
     "data": {
      "text/plain": [
       "'oi testando oi testando'"
      ]
     },
     "execution_count": 10,
     "metadata": {},
     "output_type": "execute_result"
    }
   ],
   "source": [
    "get_audio()"
   ]
  },
  {
   "cell_type": "code",
   "execution_count": 15,
   "id": "54422220-5c7a-4a90-8002-c68acc8d060a",
   "metadata": {},
   "outputs": [
    {
     "data": {
      "text/plain": [
       "<Popen: returncode: None args: 'notepad.exe'>"
      ]
     },
     "execution_count": 15,
     "metadata": {},
     "output_type": "execute_result"
    }
   ],
   "source": [
    "subprocess.Popen('notepad.exe', shell=True)"
   ]
  },
  {
   "cell_type": "code",
   "execution_count": null,
   "id": "96769a4b-2f32-4e5f-bb4c-279065fa36c4",
   "metadata": {},
   "outputs": [],
   "source": []
  }
 ],
 "metadata": {
  "kernelspec": {
   "display_name": "Python 3 (ipykernel)",
   "language": "python",
   "name": "python3"
  },
  "language_info": {
   "codemirror_mode": {
    "name": "ipython",
    "version": 3
   },
   "file_extension": ".py",
   "mimetype": "text/x-python",
   "name": "python",
   "nbconvert_exporter": "python",
   "pygments_lexer": "ipython3",
   "version": "3.12.7"
  }
 },
 "nbformat": 4,
 "nbformat_minor": 5
}
